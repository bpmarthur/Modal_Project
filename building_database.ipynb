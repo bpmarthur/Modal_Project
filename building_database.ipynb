{
 "cells": [
  {
   "cell_type": "code",
   "execution_count": 3,
   "id": "21fe6bbc",
   "metadata": {},
   "outputs": [],
   "source": [
    "from rdflib import Graph, Namespace, Literal, RDF, URIRef\n",
    "from rdflib.namespace import FOAF, DC, XSD\n",
    "\n",
    "# Définition des namespaces\n",
    "EX = Namespace(\"http://example.org/\")\n",
    "SCHEMA = Namespace(\"http://schema.org/\")\n",
    "MO = Namespace(\"http://purl.org/ontology/mo/\")\n",
    "\n",
    "# Création du graphe\n",
    "g = Graph()\n",
    "g.bind(\"foaf\", FOAF)\n",
    "g.bind(\"dc\", DC)\n",
    "g.bind(\"schema\", SCHEMA)\n",
    "g.bind(\"mo\", MO)\n",
    "g.bind(\"ex\", EX)"
   ]
  },
  {
   "cell_type": "code",
   "execution_count": 7,
   "id": "0b24d08f",
   "metadata": {},
   "outputs": [],
   "source": [
    "import musicbrainzngs\n",
    "\n",
    "musicbrainzngs.set_useragent(\"musicbrainzngs\",\"0.7.0\")"
   ]
  },
  {
   "cell_type": "code",
   "execution_count": null,
   "id": "6e110d2e",
   "metadata": {},
   "outputs": [
    {
     "name": "stdout",
     "output_type": "stream",
     "text": [
      "🎤 Artiste trouvé : Nekfeu (MBID: d721866d-5640-44ee-87f7-23dd062abd8a)\n"
     ]
    },
    {
     "ename": "HTTPError",
     "evalue": "400 Client Error: Bad Request for url: https://musicbrainz.org/ws/2/artist/d721866d-5640-44ee-87f7-23dd062abd8a?inc=area%2Bbegin-area%2Baliases&fmt=json",
     "output_type": "error",
     "traceback": [
      "\u001b[1;31m---------------------------------------------------------------------------\u001b[0m",
      "\u001b[1;31mHTTPError\u001b[0m                                 Traceback (most recent call last)",
      "Cell \u001b[1;32mIn[10], line 56\u001b[0m\n\u001b[0;32m     53\u001b[0m mbid \u001b[38;5;241m=\u001b[39m artist[\u001b[38;5;124m\"\u001b[39m\u001b[38;5;124mid\u001b[39m\u001b[38;5;124m\"\u001b[39m]\n\u001b[0;32m     54\u001b[0m \u001b[38;5;28mprint\u001b[39m(\u001b[38;5;124mf\u001b[39m\u001b[38;5;124m\"\u001b[39m\u001b[38;5;124m🎤 Artiste trouvé : \u001b[39m\u001b[38;5;132;01m{\u001b[39;00martist[\u001b[38;5;124m'\u001b[39m\u001b[38;5;124mname\u001b[39m\u001b[38;5;124m'\u001b[39m]\u001b[38;5;132;01m}\u001b[39;00m\u001b[38;5;124m (MBID: \u001b[39m\u001b[38;5;132;01m{\u001b[39;00mmbid\u001b[38;5;132;01m}\u001b[39;00m\u001b[38;5;124m)\u001b[39m\u001b[38;5;124m\"\u001b[39m)\n\u001b[1;32m---> 56\u001b[0m details \u001b[38;5;241m=\u001b[39m get_artist_details(mbid)\n\u001b[0;32m     57\u001b[0m time\u001b[38;5;241m.\u001b[39msleep(\u001b[38;5;241m2\u001b[39m)  \u001b[38;5;66;03m# Respecter les limites de l'API\u001b[39;00m\n\u001b[0;32m     58\u001b[0m releases \u001b[38;5;241m=\u001b[39m get_artist_releases(mbid)\n",
      "Cell \u001b[1;32mIn[10], line 44\u001b[0m, in \u001b[0;36mget_artist_details\u001b[1;34m(mbid)\u001b[0m\n\u001b[0;32m     42\u001b[0m response \u001b[38;5;241m=\u001b[39m requests\u001b[38;5;241m.\u001b[39mget(url, params\u001b[38;5;241m=\u001b[39mparams, headers\u001b[38;5;241m=\u001b[39mHEADERS)\n\u001b[0;32m     43\u001b[0m time\u001b[38;5;241m.\u001b[39msleep(\u001b[38;5;241m2\u001b[39m)  \u001b[38;5;66;03m# Respecter les limites de l'API\u001b[39;00m\n\u001b[1;32m---> 44\u001b[0m response\u001b[38;5;241m.\u001b[39mraise_for_status()\n\u001b[0;32m     45\u001b[0m \u001b[38;5;28;01mreturn\u001b[39;00m response\u001b[38;5;241m.\u001b[39mjson()\n",
      "File \u001b[1;32mc:\\Users\\Arthur\\miniconda3\\envs\\main_env\\Lib\\site-packages\\requests\\models.py:1024\u001b[0m, in \u001b[0;36mResponse.raise_for_status\u001b[1;34m(self)\u001b[0m\n\u001b[0;32m   1019\u001b[0m     http_error_msg \u001b[38;5;241m=\u001b[39m (\n\u001b[0;32m   1020\u001b[0m         \u001b[38;5;124mf\u001b[39m\u001b[38;5;124m\"\u001b[39m\u001b[38;5;132;01m{\u001b[39;00m\u001b[38;5;28mself\u001b[39m\u001b[38;5;241m.\u001b[39mstatus_code\u001b[38;5;132;01m}\u001b[39;00m\u001b[38;5;124m Server Error: \u001b[39m\u001b[38;5;132;01m{\u001b[39;00mreason\u001b[38;5;132;01m}\u001b[39;00m\u001b[38;5;124m for url: \u001b[39m\u001b[38;5;132;01m{\u001b[39;00m\u001b[38;5;28mself\u001b[39m\u001b[38;5;241m.\u001b[39murl\u001b[38;5;132;01m}\u001b[39;00m\u001b[38;5;124m\"\u001b[39m\n\u001b[0;32m   1021\u001b[0m     )\n\u001b[0;32m   1023\u001b[0m \u001b[38;5;28;01mif\u001b[39;00m http_error_msg:\n\u001b[1;32m-> 1024\u001b[0m     \u001b[38;5;28;01mraise\u001b[39;00m HTTPError(http_error_msg, response\u001b[38;5;241m=\u001b[39m\u001b[38;5;28mself\u001b[39m)\n",
      "\u001b[1;31mHTTPError\u001b[0m: 400 Client Error: Bad Request for url: https://musicbrainz.org/ws/2/artist/d721866d-5640-44ee-87f7-23dd062abd8a?inc=area%2Bbegin-area%2Baliases&fmt=json"
     ]
    }
   ],
   "source": [
    "import requests\n",
    "import time\n",
    "\n",
    "HEADERS = {\n",
    "    \"User-Agent\": \"RapCollabParser/1.0 ( contact@example.org )\"\n",
    "}\n",
    "\n",
    "BASE_URL = \"https://musicbrainz.org/ws/2\"\n",
    "\n",
    "def search_artist(name):\n",
    "    url = f\"{BASE_URL}/artist\"\n",
    "    params = {\n",
    "        \"query\": name,\n",
    "        \"fmt\": \"json\",\n",
    "        \"limit\": 1\n",
    "    }\n",
    "    response = requests.get(url, params=params, headers=HEADERS)\n",
    "    response.raise_for_status()\n",
    "    results = response.json()\n",
    "    if results[\"artists\"]:\n",
    "        return results[\"artists\"][0]\n",
    "    return None\n",
    "\n",
    "def get_artist_releases(mbid):\n",
    "    url = f\"{BASE_URL}/release\"\n",
    "    params = {\n",
    "        \"artist\": mbid,\n",
    "        \"inc\": \"release-groups\",\n",
    "        \"fmt\": \"json\",\n",
    "        \"limit\": 100\n",
    "    }\n",
    "    response = requests.get(url, params=params, headers=HEADERS)\n",
    "    response.raise_for_status()\n",
    "    return response.json()[\"releases\"]\n",
    "\n",
    "def get_artist_details(mbid):\n",
    "    url = f\"{BASE_URL}/artist/{mbid}\"\n",
    "    params = {\n",
    "        \"inc\": \"area+begin-area+aliases\",\n",
    "        \"fmt\": \"json\"\n",
    "    }\n",
    "    response = requests.get(url, params=params, headers=HEADERS)\n",
    "    time.sleep(1)  # Respecter les limites de l'API\n",
    "    response.raise_for_status()\n",
    "    return response.json()\n",
    "\n",
    "# Exemple d'utilisation\n",
    "if __name__ == \"__main__\":\n",
    "    name = \"Nekfeu\"\n",
    "    artist = search_artist(name)\n",
    "\n",
    "    if artist:\n",
    "        mbid = artist[\"id\"]\n",
    "        print(f\"🎤 Artiste trouvé : {artist['name']} (MBID: {mbid})\")\n",
    "\n",
    "        details = get_artist_details(mbid)\n",
    "        time.sleep(1)  # Respecter les limites de l'API\n",
    "        releases = get_artist_releases(mbid)\n",
    "\n",
    "        print(\"Nom complet :\", details.get(\"name\"))\n",
    "        print(\"Alias :\", [alias[\"name\"] for alias in details.get(\"aliases\", [])])\n",
    "        print(\"Pays :\", details.get(\"area\", {}).get(\"name\"))\n",
    "        print(\"Lieu de naissance :\", details.get(\"begin-area\", {}).get(\"name\"))\n",
    "        print(\"Date de naissance :\", details.get(\"life-span\", {}).get(\"begin\"))\n",
    "\n",
    "        print(\"\\n🎶 Albums / Releases :\")\n",
    "        for r in releases[:10]:  # pour limiter l'affichage\n",
    "            print(\"-\", r[\"title\"], \"(date:\", r.get(\"date\", \"n/a\") + \")\")\n",
    "\n",
    "    else:\n",
    "        print(\"❌ Aucun artiste trouvé.\")\n"
   ]
  },
  {
   "cell_type": "code",
   "execution_count": 5,
   "id": "c82dc027",
   "metadata": {},
   "outputs": [
    {
     "name": "stdout",
     "output_type": "stream",
     "text": [
      "✅ RDF exporté dans 'music_graph.ttl'\n"
     ]
    }
   ],
   "source": [
    "# === Construction RDF\n",
    "\n",
    "# Artistes\n",
    "for artist in artists:\n",
    "    artist_uri = EX[artist[\"id\"]]\n",
    "    g.add((artist_uri, RDF.type, MO.MusicArtist))\n",
    "    g.add((artist_uri, FOAF.name, Literal(artist[\"stage_name\"])))\n",
    "    g.add((artist_uri, FOAF.givenName, Literal(artist[\"full_name\"].split()[0])))\n",
    "    g.add((artist_uri, FOAF.familyName, Literal(artist[\"full_name\"].split()[-1])))\n",
    "    g.add((artist_uri, SCHEMA.birthPlace, Literal(artist[\"birthplace\"])))\n",
    "    g.add((artist_uri, SCHEMA.birthDate, Literal(artist[\"birthdate\"], datatype=XSD.date)))\n",
    "\n",
    "    for album_id in artist[\"albums\"]:\n",
    "        g.add((artist_uri, MO.produced, EX[album_id]))\n",
    "        g.add((artist_uri, MO.published_album, EX[album_id]))\n",
    "\n",
    "    for song_id in artist[\"songs\"]:\n",
    "        g.add((artist_uri, MO.produced, EX[song_id]))\n",
    "\n",
    "    for feat_id in artist[\"features\"]:\n",
    "        g.add((artist_uri, MO.featured_on, EX[feat_id]))\n",
    "\n",
    "# Musiques\n",
    "for song_id, song in songs.items():\n",
    "    song_uri = EX[song_id]\n",
    "    g.add((song_uri, RDF.type, MO.MusicalWork))\n",
    "    g.add((song_uri, DC.title, Literal(song[\"title\"])))\n",
    "    g.add((song_uri, MO.performer, EX[song[\"author\"]]))\n",
    "    g.add((song_uri, DC.date, Literal(song[\"release_date\"], datatype=XSD.date)))\n",
    "\n",
    "# Albums\n",
    "for album_id, album in albums.items():\n",
    "    album_uri = EX[album_id]\n",
    "    g.add((album_uri, RDF.type, MO.Release))\n",
    "    g.add((album_uri, DC.title, Literal(album[\"title\"])))\n",
    "    g.add((album_uri, MO.producer, EX[album[\"author\"]]))\n",
    "    g.add((album_uri, DC.date, Literal(album[\"release_date\"], datatype=XSD.date)))\n",
    "\n",
    "# === Export en Turtle\n",
    "g.serialize(\"music_graph.ttl\", format=\"turtle\")\n",
    "print(\"✅ RDF exporté dans 'music_graph.ttl'\")\n"
   ]
  }
 ],
 "metadata": {
  "kernelspec": {
   "display_name": "main_env",
   "language": "python",
   "name": "python3"
  },
  "language_info": {
   "codemirror_mode": {
    "name": "ipython",
    "version": 3
   },
   "file_extension": ".py",
   "mimetype": "text/x-python",
   "name": "python",
   "nbconvert_exporter": "python",
   "pygments_lexer": "ipython3",
   "version": "3.11.11"
  }
 },
 "nbformat": 4,
 "nbformat_minor": 5
}
