{
 "cells": [
  {
   "cell_type": "code",
   "execution_count": 73,
   "id": "21fe6bbc",
   "metadata": {},
   "outputs": [],
   "source": [
    "from rdflib import Graph, Namespace, Literal, RDF, URIRef\n",
    "from rdflib.namespace import FOAF, DC, XSD\n",
    "\n",
    "# Définition des namespaces\n",
    "EX = Namespace(\"http://example.org/\")\n",
    "SCHEMA = Namespace(\"http://schema.org/\")\n",
    "MO = Namespace(\"http://purl.org/ontology/mo/\")\n",
    "\n",
    "# Création du graphe\n",
    "g = Graph()\n",
    "g.bind(\"foaf\", FOAF)\n",
    "g.bind(\"dc\", DC)\n",
    "g.bind(\"schema\", SCHEMA)\n",
    "g.bind(\"mo\", MO)\n",
    "g.bind(\"ex\", EX)"
   ]
  },
  {
   "cell_type": "code",
   "execution_count": 74,
   "id": "0b24d08f",
   "metadata": {},
   "outputs": [],
   "source": [
    "import musicbrainzngs\n",
    "\n",
    "musicbrainzngs.set_useragent(\"musicbrainzngs\",\"0.7.0\")"
   ]
  },
  {
   "cell_type": "code",
   "execution_count": 75,
   "id": "45a227ca",
   "metadata": {},
   "outputs": [],
   "source": [
    "artists = []"
   ]
  },
  {
   "cell_type": "code",
   "execution_count": 88,
   "id": "6e110d2e",
   "metadata": {},
   "outputs": [],
   "source": [
    "import requests\n",
    "import time\n",
    "\n",
    "HEADERS = {\n",
    "    \"User-Agent\": \"RapCollabParser/1.0 ( contact@example.org )\"\n",
    "}\n",
    "\n",
    "BASE_URL_MB = \"https://musicbrainz.org/ws/2\"\n",
    "\n",
    "def search_artist(name):\n",
    "    url = f\"{BASE_URL_MB}/artist\"\n",
    "    params = {\n",
    "        \"query\": name,\n",
    "        \"fmt\": \"json\",\n",
    "        \"limit\": 1\n",
    "    }\n",
    "    response = requests.get(url, params=params, headers=HEADERS)\n",
    "    response.raise_for_status()\n",
    "    results = response.json()\n",
    "    if results[\"artists\"]:\n",
    "        return results[\"artists\"][0]\n",
    "    return None\n",
    "\n",
    "def get_artist_releases(mbid):\n",
    "    url = f\"{BASE_URL_MB}/release\"\n",
    "    params = {\n",
    "        \"artist\": mbid,\n",
    "        \"inc\": \"release-groups\",\n",
    "        \"fmt\": \"json\",\n",
    "        \"limit\": 100\n",
    "    }\n",
    "    response = requests.get(url, params=params, headers=HEADERS)\n",
    "    response.raise_for_status()\n",
    "    return response.json()[\"releases\"]\n",
    "\n",
    "def get_artist_details(mbid):\n",
    "    url = f\"{BASE_URL_MB}/artist/{mbid}\"\n",
    "    params = {\n",
    "        \"inc\": \"aliases\",\n",
    "        \"fmt\": \"json\"\n",
    "    }\n",
    "    response = requests.get(url, params=params, headers=HEADERS)\n",
    "    time.sleep(1)  # Respecter les limites de l'API\n",
    "    response.raise_for_status()\n",
    "    return response.json()\n",
    "\n"
   ]
  },
  {
   "cell_type": "code",
   "execution_count": 77,
   "id": "c764701b",
   "metadata": {},
   "outputs": [
    {
     "name": "stdout",
     "output_type": "stream",
     "text": [
      "🎤 Artiste trouvé : Nekfeu (MBID: d721866d-5640-44ee-87f7-23dd062abd8a)\n",
      "Colonnes disponibles dans 'artist': dict_keys(['id', 'type', 'type-id', 'score', 'gender-id', 'name', 'sort-name', 'gender', 'country', 'area', 'begin-area', 'isnis', 'life-span', 'aliases', 'tags'])\n",
      "Nom complet : Nekfeu\n",
      "Alias : ['Ken Samaras', 'Nekfeu', 'Κεν Σαμαράς']\n",
      "Pays : France\n",
      "Lieu de naissance : La Trinité\n",
      "Date de naissance : 1990-04-03\n",
      "\n",
      "🎶 Albums / Releases :\n",
      "- Cyborg (date: 2016-12-02)\n",
      "- Au coeur du G (date: 2019-10-11)\n",
      "- Feu (date: 2015-06-08)\n",
      "- En sous-marin (date: 2011-10-11)\n",
      "- Expansion (date: 2019-06-21)\n",
      "- Les Étoiles vagabondes / Expansion (date: 2019-06-21)\n",
      "- Nique les clones (date: 2011-12-15)\n",
      "- Feu (date: 2015-06-08)\n",
      "- Expansion (date: 2019-06-21)\n",
      "- Cyborg (date: 2016-12-02)\n"
     ]
    }
   ],
   "source": [
    "# Exemple d'utilisation\n",
    "if __name__ == \"__main__\":\n",
    "    name = \"Nekfeu\"\n",
    "    artist = search_artist(name)\n",
    "\n",
    "    if artist:\n",
    "        mbid = artist[\"id\"]\n",
    "        print(f\"🎤 Artiste trouvé : {artist['name']} (MBID: {mbid})\")\n",
    "\n",
    "        details = get_artist_details(mbid)\n",
    "        time.sleep(1)  # Respecter les limites de l'API\n",
    "        releases = get_artist_releases(mbid)\n",
    "        \n",
    "        print(\"Colonnes disponibles dans 'artist':\", artist.keys())\n",
    "\n",
    "        print(\"Nom complet :\", details.get(\"name\"))\n",
    "        print(\"Alias :\", [alias[\"name\"] for alias in details.get(\"aliases\", [])])\n",
    "        print(\"Pays :\", details.get(\"area\", {}).get(\"name\"))\n",
    "        print(\"Lieu de naissance :\", details.get(\"begin-area\", {}).get(\"name\"))\n",
    "        print(\"Date de naissance :\", details.get(\"life-span\", {}).get(\"begin\"))\n",
    "\n",
    "        print(\"\\n🎶 Albums / Releases :\")\n",
    "        for r in releases[:10]:  # pour limiter l'affichage\n",
    "            print(\"-\", r[\"title\"], \"(date:\", r.get(\"date\", \"n/a\") + \")\")\n",
    "            \n",
    "        artists.append(artist)\n",
    "\n",
    "    else:\n",
    "        print(\"Aucun artiste trouvé.\")\n"
   ]
  },
  {
   "cell_type": "code",
   "execution_count": 78,
   "id": "c82dc027",
   "metadata": {},
   "outputs": [
    {
     "name": "stdout",
     "output_type": "stream",
     "text": [
      "✅ RDF exporté dans 'music_graph.ttl'\n"
     ]
    }
   ],
   "source": [
    "# === Construction RDF\n",
    "\n",
    "# Artistes\n",
    "for artist in artists:\n",
    "    mbid = artist[\"id\"]\n",
    "    details = get_artist_details(mbid)\n",
    "    \n",
    "    artist_uri = EX[artist[\"id\"]]\n",
    "    g.add((artist_uri, RDF.type, MO.MusicArtist))\n",
    "    g.add((artist_uri, FOAF.name, Literal(details.get(\"name\"))))\n",
    "    g.add((artist_uri, SCHEMA.birthPlace, Literal(details.get(\"begin-area\", {}).get(\"name\"))))\n",
    "    birth_date = details.get(\"life-span\", {}).get(\"begin\")\n",
    "    if birth_date: g.add((artist_uri, SCHEMA.birthDate, Literal(birth_date, datatype=XSD.date)))\n",
    "\n",
    "\n",
    "    # releases = get_artist_releases(artist[\"id\"])\n",
    "\n",
    "    # for release in releases:\n",
    "    #     album_id = release[\"id\"]\n",
    "    #     album_title = release.get(\"title\")\n",
    "        \n",
    "    #     album_uri = EX[album_id]\n",
    "        \n",
    "    #     # Lien entre artiste et album\n",
    "    #     g.add((artist_uri, MO.produced, album_uri))\n",
    "    #     g.add((artist_uri, MO.published_album, album_uri))\n",
    "        \n",
    "    #     # Déclaration du nœud album et ajout de son titre\n",
    "    #     g.add((album_uri, RDF.type, MO.Release))\n",
    "    #     if album_title:\n",
    "    #         g.add((album_uri, DC.title, Literal(album_title)))\n",
    "\n",
    "    # for song_id in artist[\"songs\"]:\n",
    "    #     g.add((artist_uri, MO.produced, EX[song_id]))\n",
    "\n",
    "    # for feat_id in artist[\"features\"]:\n",
    "    #     g.add((artist_uri, MO.featured_on, EX[feat_id]))\n",
    "\n",
    "# Musiques\n",
    "# for song_id, song in songs.items():\n",
    "#     song_uri = EX[song_id]\n",
    "#     g.add((song_uri, RDF.type, MO.MusicalWork))\n",
    "#     g.add((song_uri, DC.title, Literal(song[\"title\"])))\n",
    "#     g.add((song_uri, MO.performer, EX[song[\"author\"]]))\n",
    "#     g.add((song_uri, DC.date, Literal(song[\"release_date\"], datatype=XSD.date)))\n",
    "\n",
    "# # Albums\n",
    "# for album_id, album in albums.items():\n",
    "#     album_uri = EX[album_id]\n",
    "#     g.add((album_uri, RDF.type, MO.Release))\n",
    "#     g.add((album_uri, DC.title, Literal(album[\"title\"])))\n",
    "#     g.add((album_uri, MO.producer, EX[album[\"author\"]]))\n",
    "#     g.add((album_uri, DC.date, Literal(album[\"release_date\"], datatype=XSD.date)))\n",
    "\n",
    "# === Export en Turtle\n",
    "g.serialize(\"music_graph.ttl\", format=\"turtle\")\n",
    "print(\"✅ RDF exporté dans 'music_graph.ttl'\")\n"
   ]
  },
  {
   "cell_type": "code",
   "execution_count": null,
   "id": "90b31da8",
   "metadata": {},
   "outputs": [],
   "source": [
    "def search_french_rappers(limit=100, offset=0):\n",
    "    url = f\"{BASE_URL_MB}/artist\"\n",
    "    params = {\n",
    "        \"query\": '(tag:\"rap\" OR tag:\"hip hop\" OR tag:\"trap\") AND country:FR',\n",
    "        \"fmt\": \"json\",\n",
    "        \"limit\": limit,\n",
    "        \"offset\": offset\n",
    "    }\n",
    "    response = requests.get(url, params=params, headers=HEADERS)\n",
    "    time.sleep(0.5)  # Respect API rate limits\n",
    "    response.raise_for_status()\n",
    "    return response.json().get(\"artists\", [])"
   ]
  },
  {
   "cell_type": "code",
   "execution_count": null,
   "id": "6de655d8",
   "metadata": {},
   "outputs": [],
   "source": [
    "def extract_artist_names(limit=100, offset=0):\n",
    "    url = f\"{BASE_URL_MB}/artist\"\n",
    "    query = '(tag:\"rap\" OR tag:\"hip hop\" OR tag:\"trap\" OR tag:\"cloud rap\") AND country:FR'\n",
    "    params = {\n",
    "        \"query\": query,\n",
    "        \"fmt\": \"json\",\n",
    "        \"limit\": limit,\n",
    "        \"offset\": offset\n",
    "    }\n",
    "    response = requests.get(url, params=params, headers=HEADERS)\n",
    "    time.sleep(0.5)  # Respecter les limites d’usage\n",
    "    response.raise_for_status()\n",
    "    \n",
    "    artists = response.json().get(\"artists\", [])\n",
    "    return [artist[\"name\"] for artist in artists]\n"
   ]
  },
  {
   "cell_type": "code",
   "execution_count": 81,
   "id": "8fa1c6fb",
   "metadata": {},
   "outputs": [],
   "source": [
    "import string\n",
    "\n",
    "def collect_french_rappers_by_letter():\n",
    "    all_artists = set()\n",
    "\n",
    "    for letter in string.ascii_lowercase:\n",
    "        query = f'artist:{letter}* AND (tag:\"rap\" OR tag:\"hip hop\" OR tag:\"trap\" OR \"cloud rap\" ) AND (country:FR OR country:BE)'\n",
    "        params = {\n",
    "            \"query\": query,\n",
    "            \"fmt\": \"json\",\n",
    "            \"limit\": 100\n",
    "        }\n",
    "\n",
    "        response = requests.get(f\"{BASE_URL_MB}/artist\", params=params, headers=HEADERS)\n",
    "        time.sleep(1)\n",
    "        response.raise_for_status()\n",
    "        results = response.json().get(\"artists\", [])\n",
    "        \n",
    "        for artist in results:\n",
    "            name = artist.get(\"name\")\n",
    "            if name:\n",
    "                all_artists.add((name, artist.get(\"id\")))\n",
    "\n",
    "        print(f\"✅ {len(results)} artistes récupérés pour '{letter.upper()}*'\")\n",
    "\n",
    "    return list(all_artists)\n"
   ]
  },
  {
   "cell_type": "code",
   "execution_count": 82,
   "id": "305ec4fa",
   "metadata": {},
   "outputs": [
    {
     "name": "stdout",
     "output_type": "stream",
     "text": [
      "✅ 48 artistes récupérés pour 'A*'\n",
      "✅ 60 artistes récupérés pour 'B*'\n",
      "✅ 44 artistes récupérés pour 'C*'\n",
      "✅ 77 artistes récupérés pour 'D*'\n",
      "✅ 25 artistes récupérés pour 'E*'\n",
      "✅ 32 artistes récupérés pour 'F*'\n",
      "✅ 21 artistes récupérés pour 'G*'\n",
      "✅ 13 artistes récupérés pour 'H*'\n",
      "✅ 14 artistes récupérés pour 'I*'\n",
      "✅ 22 artistes récupérés pour 'J*'\n",
      "✅ 31 artistes récupérés pour 'K*'\n",
      "✅ 70 artistes récupérés pour 'L*'\n",
      "✅ 59 artistes récupérés pour 'M*'\n",
      "✅ 41 artistes récupérés pour 'N*'\n",
      "✅ 17 artistes récupérés pour 'O*'\n",
      "✅ 45 artistes récupérés pour 'P*'\n",
      "✅ 2 artistes récupérés pour 'Q*'\n",
      "✅ 26 artistes récupérés pour 'R*'\n",
      "✅ 90 artistes récupérés pour 'S*'\n",
      "✅ 31 artistes récupérés pour 'T*'\n",
      "✅ 5 artistes récupérés pour 'U*'\n",
      "✅ 11 artistes récupérés pour 'V*'\n",
      "✅ 8 artistes récupérés pour 'W*'\n",
      "✅ 1 artistes récupérés pour 'X*'\n",
      "✅ 11 artistes récupérés pour 'Y*'\n",
      "✅ 3 artistes récupérés pour 'Z*'\n"
     ]
    }
   ],
   "source": [
    "all_french_rappers = collect_french_rappers_by_letter()"
   ]
  },
  {
   "cell_type": "code",
   "execution_count": 83,
   "id": "be02538a",
   "metadata": {},
   "outputs": [
    {
     "name": "stdout",
     "output_type": "stream",
     "text": [
      "523\n"
     ]
    },
    {
     "data": {
      "text/plain": [
       "[]"
      ]
     },
     "execution_count": 83,
     "metadata": {},
     "output_type": "execute_result"
    }
   ],
   "source": [
    "print(len(all_french_rappers))\n",
    "\n",
    "def find_name_duplicates(artist_tuples):\n",
    "    name_count = {}\n",
    "    for name, _ in artist_tuples:\n",
    "        name_count[name] = name_count.get(name, 0) + 1\n",
    "    return [name for name, count in name_count.items() if count > 1]\n",
    "\n",
    "find_name_duplicates(all_french_rappers)  # Trouver les doublons de noms"
   ]
  },
  {
   "cell_type": "markdown",
   "id": "e257417c",
   "metadata": {},
   "source": [
    "La liste obtenue est sans doublons !! Il reste à filtrer plus finement sur le genre et sur le nombre d'auditeurs"
   ]
  },
  {
   "cell_type": "code",
   "execution_count": 84,
   "id": "87f28a5e",
   "metadata": {},
   "outputs": [],
   "source": [
    "import jellyfish\n",
    "import unicodedata\n",
    "\n",
    "def normalize_string(s):\n",
    "    # Supprime les accents, met en minuscules et enlève les caractères non alphanumériques\n",
    "    s = s.lower()\n",
    "    s = unicodedata.normalize('NFD', s)\n",
    "    s = ''.join(c for c in s if unicodedata.category(c) != 'Mn')  # enlève les diacritiques\n",
    "    return s\n",
    "\n",
    "def find_similar_names(artist_tuples, name):\n",
    "    similar_names = []\n",
    "    for artist in artist_tuples:\n",
    "        name = normalize_string(name)\n",
    "        artist_name = normalize_string(artist[0])\n",
    "        similarity = jellyfish.jaro_winkler_similarity(artist_name, name)\n",
    "        if similarity > 0.8:\n",
    "            similar_names.append((artist, similarity))\n",
    "    return similar_names\n",
    "\n",
    "def find_artist(artist_tuples, name):\n",
    "    for artist in artist_tuples:\n",
    "        if jellyfish.jaro_winkler_similarity(artist[0], name) > 0.8:\n",
    "            return artist, jellyfish.jaro_winkler_similarity(artist[0], name)\n",
    "    return None"
   ]
  },
  {
   "cell_type": "code",
   "execution_count": 85,
   "id": "f97ccf7b",
   "metadata": {},
   "outputs": [
    {
     "data": {
      "text/plain": [
       "[]"
      ]
     },
     "execution_count": 85,
     "metadata": {},
     "output_type": "execute_result"
    }
   ],
   "source": [
    "find_similar_names(all_french_rappers, \"\")  # Trouver un artiste par son nom"
   ]
  },
  {
   "cell_type": "markdown",
   "id": "dab0922e",
   "metadata": {},
   "source": [
    "# Tests avec l'API last.fm"
   ]
  },
  {
   "cell_type": "code",
   "execution_count": null,
   "id": "575c7252",
   "metadata": {},
   "outputs": [],
   "source": [
    "import os\n",
    "from dotenv import load_dotenv\n",
    "import requests\n",
    "\n",
    "# Charge le fichier .env (ou .md) à la racine du projet\n",
    "load_dotenv(\"API.md\")\n",
    "\n",
    "# Récupère la clé\n",
    "API_KEY = os.getenv(\"LASTFM_API_KEY\")\n",
    "\n",
    "if not API_KEY:\n",
    "    raise ValueError(\"Clé API Last.fm non trouvée\")\n",
    "\n",
    "BASE_URL_LFM = \"http://ws.audioscrobbler.com/2.0/\"\n",
    "\n",
    "def get_similar_artists(artist_name, limit=25):\n",
    "    params = {\n",
    "        \"method\": \"artist.getsimilar\",\n",
    "        \"artist\": artist_name,\n",
    "        \"api_key\": API_KEY,\n",
    "        \"format\": \"json\",\n",
    "        \"limit\": limit\n",
    "    }\n",
    "    response = requests.get(BASE_URL_LFM, params=params)\n",
    "    response.raise_for_status()\n",
    "    return response.json()\n",
    "\n",
    "def get_artist_mbid(artist_name):\n",
    "    params = {\n",
    "        \"method\": \"artist.getInfo\",\n",
    "        \"artist\": artist_name,\n",
    "        \"api_key\": API_KEY,\n",
    "        \"format\": \"json\"\n",
    "    }\n",
    "\n",
    "    response = requests.get(BASE_URL_LFM, params=params)\n",
    "    response.raise_for_status()\n",
    "    data = response.json()\n",
    "\n",
    "    if \"artist\" in data and \"mbid\" in data[\"artist\"]:\n",
    "        return data[\"artist\"][\"mbid\"]\n",
    "    return None\n",
    "\n",
    "def get_artist_by_mbid(mbid):\n",
    "    url = f\"{BASE_URL_MB}/artist/{mbid}\"\n",
    "    params = {\n",
    "        \"fmt\": \"json\",\n",
    "        \"inc\": \"aliases\"\n",
    "    }\n",
    "    response = requests.get(url, headers=HEADERS, params=params)\n",
    "    time.sleep(1)  # Pour respecter les limites de l'API\n",
    "    response.raise_for_status()\n",
    "    return response.json()"
   ]
  },
  {
   "cell_type": "code",
   "execution_count": null,
   "id": "56ae08aa",
   "metadata": {},
   "outputs": [
    {
     "name": "stdout",
     "output_type": "stream",
     "text": [
      "{'id': 'd721866d-5640-44ee-87f7-23dd062abd8a', 'life-span': {'end': None, 'begin': '1990-04-03', 'ended': False}, 'end-area': None, 'country': 'FR', 'type': 'Person', 'isnis': ['0000000407569240', '0000000451231028'], 'name': 'Nekfeu', 'gender': 'Male', 'type-id': 'b6e035f4-3ce9-331c-97df-83397230b0df', 'begin-area': {'disambiguation': '', 'type-id': None, 'type': None, 'sort-name': 'La Trinité', 'id': '1f7dde23-c6ce-4d08-8e72-e435e7d7197b', 'name': 'La Trinité'}, 'area': {'type-id': None, 'type': None, 'sort-name': 'France', 'name': 'France', 'disambiguation': '', 'id': '08310658-51eb-3801-80de-5a0739207115', 'iso-3166-1-codes': ['FR']}, 'gender-id': '36d3d30a-839d-3eda-8cb3-29be4384e4a9', 'disambiguation': '', 'sort-name': 'Nekfeu', 'aliases': [{'sort-name': 'Samaras, Ken', 'type': 'Legal name', 'name': 'Ken Samaras', 'end': None, 'locale': None, 'type-id': 'd4dcd0c0-b341-3612-a332-c0ce797b25cf', 'begin': None, 'ended': False, 'primary': None}, {'ended': False, 'primary': None, 'name': 'Nekfeu', 'sort-name': 'Nekfeu', 'type': 'Artist name', 'type-id': '894afba6-2816-3c24-8072-eadb66bd04bc', 'begin': None, 'locale': None, 'end': None}, {'type': 'Legal name', 'sort-name': 'Σαμαράς, Κεν', 'name': 'Κεν Σαμαράς', 'locale': None, 'end': None, 'type-id': 'd4dcd0c0-b341-3612-a332-c0ce797b25cf', 'begin': None, 'ended': False, 'primary': None}], 'ipis': []}\n",
      "🎵 Artistes similaires à Nekfeu :\n",
      "- S-Crew (1.00)\n",
      "- Népal (0.76)\n",
      "- Damso (0.66)\n",
      "- Laylow (0.65)\n",
      "- Josman (0.64)\n",
      "- doums (0.63)\n",
      "- Dinos (0.62)\n",
      "- Luidji (0.62)\n",
      "- Alpha Wann (0.61)\n",
      "- Lomepal (0.60)\n",
      "- Jazzy Bazz (0.56)\n",
      "- Orelsan (0.52)\n",
      "- Luv Resval (0.50)\n",
      "- Sneazzy (0.49)\n",
      "- Disiz (0.49)\n",
      "- Jok'Air (0.48)\n",
      "- Vald (0.46)\n",
      "- Georgio (0.46)\n",
      "- Deen Burbigo (0.45)\n",
      "- S.Pri Noir (0.44)\n",
      "- Hamza (0.42)\n",
      "- Casseurs Flowters (0.42)\n",
      "- Mister V (0.41)\n",
      "- Oboy (0.39)\n",
      "- Lorenzo (0.38)\n"
     ]
    }
   ],
   "source": [
    "artist = \"Nekfeu\"\n",
    "similar_artists = get_similar_artists(artist, 25) # ATTENTION : 250 est la limite de l'API Last.fm\n",
    "mbid = get_artist_mbid(artist)\n",
    "\n",
    "print(f\"🎵 Artistes similaires à {artist} :\")\n",
    "for similar in similar_artists[\"similarartists\"][\"artist\"]:\n",
    "    print(\"-\", similar[\"name\"], f\"({float(similar['match']):.2f})\")  # score de similarité"
   ]
  }
 ],
 "metadata": {
  "kernelspec": {
   "display_name": "main_env",
   "language": "python",
   "name": "python3"
  },
  "language_info": {
   "codemirror_mode": {
    "name": "ipython",
    "version": 3
   },
   "file_extension": ".py",
   "mimetype": "text/x-python",
   "name": "python",
   "nbconvert_exporter": "python",
   "pygments_lexer": "ipython3",
   "version": "3.11.11"
  }
 },
 "nbformat": 4,
 "nbformat_minor": 5
}
